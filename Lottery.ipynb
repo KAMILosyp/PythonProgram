{
 "cells": [
  {
   "cell_type": "code",
   "execution_count": 8,
   "id": "307b43bc-a011-494b-8f72-ae5ad9d5eb1c",
   "metadata": {},
   "outputs": [
    {
     "name": "stdin",
     "output_type": "stream",
     "text": [
      "Enter your name:  KAMIL\n",
      "Enter your last name:  MAZUR\n",
      "Enter your PESEL:  91020321321\n"
     ]
    },
    {
     "name": "stdout",
     "output_type": "stream",
     "text": [
      "KAMIL MAZUR does not receive a bonus.\n",
      "KAMIL MAZUR chooses 3 numbers between 1 and 100.\n"
     ]
    },
    {
     "name": "stdin",
     "output_type": "stream",
     "text": [
      "Enter number 1 (or 'q' to quit):  22\n",
      "Enter number 2 (or 'q' to quit):  6\n",
      "Enter number 3 (or 'q' to quit):  66\n"
     ]
    },
    {
     "name": "stdout",
     "output_type": "stream",
     "text": [
      "Lottery numbers are: [50, 12, 17]\n",
      "KAMIL matched 0 number(s) and won 0 PLN\n"
     ]
    }
   ],
   "source": [
    "import random\n",
    "import sys\n",
    "\n",
    "class Participant:\n",
    "    def __init__ (self, name, surname, pesel):\n",
    "        self.name = name\n",
    "        self.surname = surname\n",
    "        self.pesel = pesel\n",
    "        self.bonus_point = 0\n",
    "        self.prize_money = 0\n",
    "        self.number = random.randint(1, 100)  # Random number for bonus\n",
    "        if 1 <= self.number <= 10:\n",
    "            self.bonus_point = 100\n",
    "            print(f\"{self.name} {self.surname} receives a bonus of 100 points!\")\n",
    "        else:\n",
    "            print(f\"{self.name} {self.surname} does not receive a bonus.\")\n",
    "\n",
    "    def choose_number(self):\n",
    "        print(f\"{self.name} {self.surname} chooses 3 numbers between 1 and 100.\")\n",
    "        self.numbers = []\n",
    "        while len(self.numbers) < 3:\n",
    "            chosen = input(f\"Enter number {len(self.numbers) + 1} (or 'q' to quit): \")\n",
    "            if chosen.lower() == 'q':\n",
    "                print(\"You chose to quit the game. Exiting...\")\n",
    "                sys.exit()  # Zakończenie programu\n",
    "            try:\n",
    "                chosen = int(chosen)\n",
    "                if 1 <= chosen <= 100 and chosen not in self.numbers:\n",
    "                    self.numbers.append(chosen)\n",
    "                else:\n",
    "                    print(\"Invalid or duplicate number. Try again.\")\n",
    "            except ValueError:\n",
    "                print(\"Invalid input. Please enter a valid number.\")\n",
    "\n",
    "    def check_result(self):\n",
    "        lottery_numbers = random.sample(range(1, 101), 3)\n",
    "        print(f\"Lottery numbers are: {lottery_numbers}\")\n",
    "\n",
    "        # Corrected: Use self.numbers (the chosen numbers) instead of self.number\n",
    "        matched_numbers = len(set(self.numbers) & set(lottery_numbers))\n",
    "\n",
    "        if matched_numbers == 3:\n",
    "            self.prize_money = 1000000\n",
    "        elif matched_numbers == 2:\n",
    "            self.prize_money = 500000\n",
    "        elif matched_numbers == 1:\n",
    "            self.prize_money = 10000\n",
    "        else:\n",
    "            self.prize_money = 0\n",
    "\n",
    "        print(f\"{self.name} matched {matched_numbers} number(s) and won {self.prize_money} PLN\")\n",
    "\n",
    "def run_game():\n",
    "    name = input(\"Enter your name: \")\n",
    "    surname = input(\"Enter your last name: \")\n",
    "    pesel = input(\"Enter your PESEL: \")\n",
    "\n",
    "    participant = Participant(name, surname, pesel)\n",
    "    participant.choose_number()\n",
    "    participant.check_result()\n",
    "\n",
    "run_game()"
   ]
  },
  {
   "cell_type": "code",
   "execution_count": null,
   "id": "5cb80d63-106d-47ce-b2d7-b295d9f6aca5",
   "metadata": {},
   "outputs": [],
   "source": []
  }
 ],
 "metadata": {
  "kernelspec": {
   "display_name": "Python 3 (ipykernel)",
   "language": "python",
   "name": "python3"
  },
  "language_info": {
   "codemirror_mode": {
    "name": "ipython",
    "version": 3
   },
   "file_extension": ".py",
   "mimetype": "text/x-python",
   "name": "python",
   "nbconvert_exporter": "python",
   "pygments_lexer": "ipython3",
   "version": "3.11.7"
  }
 },
 "nbformat": 4,
 "nbformat_minor": 5
}
